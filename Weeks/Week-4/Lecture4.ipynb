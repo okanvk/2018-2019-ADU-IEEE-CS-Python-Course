{
 "cells": [
  {
   "cell_type": "code",
   "execution_count": 1,
   "metadata": {},
   "outputs": [
    {
     "data": {
      "text/plain": [
       "[1, 2, 3, 4, 5, 6, 7, 8, 9]"
      ]
     },
     "execution_count": 1,
     "metadata": {},
     "output_type": "execute_result"
    }
   ],
   "source": [
    "list(range(1, 10))"
   ]
  },
  {
   "cell_type": "code",
   "execution_count": 2,
   "metadata": {},
   "outputs": [
    {
     "name": "stdout",
     "output_type": "stream",
     "text": [
      "1\n",
      "2\n",
      "3\n",
      "4\n",
      "5\n",
      "6\n",
      "7\n",
      "8\n",
      "9\n"
     ]
    }
   ],
   "source": [
    "for i in range(1, 10):\n",
    "    print(i)"
   ]
  },
  {
   "cell_type": "code",
   "execution_count": 3,
   "metadata": {},
   "outputs": [
    {
     "data": {
      "text/plain": [
       "[5, 6, 7, 8, 9, 10, 11, 12, 13, 14, 15, 16, 17, 18, 19]"
      ]
     },
     "execution_count": 3,
     "metadata": {},
     "output_type": "execute_result"
    }
   ],
   "source": [
    "list(range(5, 20))    # 5 den baslayip 20 ye kadar "
   ]
  },
  {
   "cell_type": "code",
   "execution_count": 4,
   "metadata": {},
   "outputs": [
    {
     "name": "stdout",
     "output_type": "stream",
     "text": [
      "1\n",
      "4\n",
      "9\n",
      "16\n",
      "25\n",
      "36\n",
      "49\n",
      "64\n",
      "81\n"
     ]
    }
   ],
   "source": [
    "for i in range(1, 10):\n",
    "    print(i*i)"
   ]
  },
  {
   "cell_type": "code",
   "execution_count": 5,
   "metadata": {},
   "outputs": [],
   "source": [
    "# Bir deger alin\n",
    "# Bu degeri 20 kez console yazdiralim"
   ]
  },
  {
   "cell_type": "code",
   "execution_count": 6,
   "metadata": {},
   "outputs": [
    {
     "name": "stdout",
     "output_type": "stream",
     "text": [
      "Enter sth.2\n",
      "2\n",
      "2\n",
      "2\n",
      "2\n",
      "2\n",
      "2\n",
      "2\n",
      "2\n",
      "2\n",
      "2\n",
      "2\n",
      "2\n",
      "2\n",
      "2\n",
      "2\n",
      "2\n",
      "2\n",
      "2\n",
      "2\n",
      "2\n"
     ]
    }
   ],
   "source": [
    "a = input(\"Enter sth.\")\n",
    "\n",
    "for i in range(0, 20):\n",
    "    print(a)"
   ]
  },
  {
   "cell_type": "code",
   "execution_count": 7,
   "metadata": {},
   "outputs": [
    {
     "name": "stdout",
     "output_type": "stream",
     "text": [
      "Enter sth.123\n",
      "123\n",
      "123\n",
      "123\n",
      "123\n",
      "123\n",
      "123\n",
      "123\n",
      "123\n",
      "123\n",
      "123\n",
      "123\n",
      "123\n",
      "123\n",
      "123\n",
      "123\n",
      "123\n",
      "123\n",
      "123\n",
      "123\n",
      "123\n"
     ]
    }
   ],
   "source": [
    "a = int(input(\"Enter sth.\"))\n",
    "\n",
    "for i in range(0, 20):\n",
    "    print(a)"
   ]
  },
  {
   "cell_type": "code",
   "execution_count": 8,
   "metadata": {},
   "outputs": [
    {
     "ename": "TypeError",
     "evalue": "unsupported operand type(s) for +: 'int' and 'str'",
     "output_type": "error",
     "traceback": [
      "\u001b[0;31m---------------------------------------------------------------------------\u001b[0m",
      "\u001b[0;31mTypeError\u001b[0m                                 Traceback (most recent call last)",
      "\u001b[0;32m<ipython-input-8-c2a1db98db16>\u001b[0m in \u001b[0;36m<module>\u001b[0;34m()\u001b[0m\n\u001b[1;32m      3\u001b[0m \u001b[0mflag\u001b[0m \u001b[0;34m=\u001b[0m \u001b[0;32mTrue\u001b[0m\u001b[0;34m\u001b[0m\u001b[0m\n\u001b[1;32m      4\u001b[0m \u001b[0;34m\u001b[0m\u001b[0m\n\u001b[0;32m----> 5\u001b[0;31m \u001b[0mprint\u001b[0m\u001b[0;34m(\u001b[0m\u001b[0mflag\u001b[0m\u001b[0;34m+\u001b[0m\u001b[0mvar\u001b[0m\u001b[0;34m+\u001b[0m\u001b[0;34m\"python\"\u001b[0m\u001b[0;34m)\u001b[0m\u001b[0;34m\u001b[0m\u001b[0m\n\u001b[0m",
      "\u001b[0;31mTypeError\u001b[0m: unsupported operand type(s) for +: 'int' and 'str'"
     ]
    }
   ],
   "source": [
    "var = 10\n",
    "\n",
    "flag = True\n",
    "\n",
    "print(flag+var+\"python\")"
   ]
  },
  {
   "cell_type": "code",
   "execution_count": 9,
   "metadata": {},
   "outputs": [
    {
     "name": "stdout",
     "output_type": "stream",
     "text": [
      "Cift\n",
      "Tek\n",
      "Cift\n",
      "Tek\n",
      "Cift\n",
      "Tek\n",
      "Cift\n",
      "Tek\n",
      "Cift\n",
      "Tek\n",
      "Cift\n",
      "Tek\n",
      "Cift\n",
      "Tek\n",
      "Cift\n",
      "Tek\n",
      "Cift\n",
      "Tek\n",
      "Cift\n",
      "Tek\n"
     ]
    }
   ],
   "source": [
    "# 0, 20 ye kadar olan sayilar icinden\n",
    "# cift olanlari cift diye\n",
    "# tek olanlari tek diye yazdiralim\n",
    "\n",
    "for i in range(0, 20):\n",
    "    \n",
    "    if i % 2 == 0:\n",
    "        print(\"Cift\")\n",
    "    else:\n",
    "        print(\"Tek\")"
   ]
  },
  {
   "cell_type": "code",
   "execution_count": 10,
   "metadata": {},
   "outputs": [
    {
     "name": "stdout",
     "output_type": "stream",
     "text": [
      " 0 Cift\n",
      " 1 Tek\n",
      " 2 Cift\n",
      " 3 Tek\n",
      " 4 Cift\n",
      " 5 Tek\n",
      " 6 Cift\n",
      " 7 Tek\n",
      " 8 Cift\n",
      " 9 Tek\n",
      " 10 Cift\n",
      " 11 Tek\n",
      " 12 Cift\n",
      " 13 Tek\n",
      " 14 Cift\n",
      " 15 Tek\n",
      " 16 Cift\n",
      " 17 Tek\n",
      " 18 Cift\n",
      " 19 Tek\n"
     ]
    }
   ],
   "source": [
    "# 0, 20 ye kadar olan sayilar icinden\n",
    "# cift olanlari cift diye\n",
    "# tek olanlari tek diye yazdiralim\n",
    "\n",
    "for i in range(0, 20):\n",
    "    \n",
    "    if i % 2 == 0:\n",
    "        print(f\" {i} Cift\")\n",
    "    else:\n",
    "        print(f\" {i} Tek\")\n",
    "    "
   ]
  },
  {
   "cell_type": "code",
   "execution_count": 11,
   "metadata": {},
   "outputs": [
    {
     "name": "stdout",
     "output_type": "stream",
     "text": [
      " 0 Cift True\n",
      " 1 Tek\n",
      " 2 Cift True\n",
      " 3 Tek\n",
      " 4 Cift True\n",
      " 5 Tek\n",
      " 6 Cift True\n",
      " 7 Tek\n",
      " 8 Cift True\n",
      " 9 Tek\n",
      " 10 Cift True\n",
      " 11 Tek\n",
      " 12 Cift True\n",
      " 13 Tek\n",
      " 14 Cift True\n",
      " 15 Tek\n",
      " 16 Cift True\n",
      " 17 Tek\n",
      " 18 Cift True\n",
      " 19 Tek\n"
     ]
    }
   ],
   "source": [
    "# 0, 20 ye kadar olan sayilar icinden\n",
    "# cift olanlari cift diye\n",
    "# tek olanlari tek diye yazdiralim\n",
    "\n",
    "for i in range(0, 20):\n",
    "    \n",
    "    if i % 2 == 0:\n",
    "        state = True\n",
    "        print(f\" {i} Cift {state}\")\n",
    "    else:\n",
    "        print(f\" {i} Tek\")\n",
    "    "
   ]
  },
  {
   "cell_type": "code",
   "execution_count": 12,
   "metadata": {},
   "outputs": [
    {
     "name": "stdout",
     "output_type": "stream",
     "text": [
      "hello\n",
      "hello\n",
      "hello\n",
      "hello\n",
      "hello\n",
      "hello\n",
      "hello\n",
      "hello\n",
      "hello\n",
      "hello\n"
     ]
    }
   ],
   "source": [
    "i = 0\n",
    "\n",
    "while i < 10:\n",
    "    print(\"hello\")\n",
    "    i += 1"
   ]
  },
  {
   "cell_type": "code",
   "execution_count": 13,
   "metadata": {},
   "outputs": [
    {
     "name": "stdout",
     "output_type": "stream",
     "text": [
      "sayi gir5\n",
      "hello\n",
      "hello\n",
      "hello\n",
      "hello\n",
      "hello\n"
     ]
    }
   ],
   "source": [
    "a = int(input(\"sayi gir\"))\n",
    "i = 0\n",
    "\n",
    "while i < a:\n",
    "    print(\"hello\")\n",
    "    i += 1\n"
   ]
  },
  {
   "cell_type": "code",
   "execution_count": 15,
   "metadata": {},
   "outputs": [
    {
     "name": "stdout",
     "output_type": "stream",
     "text": [
      "kac sayi gireceksiniz: 6\n",
      "1\n",
      "2\n",
      "3\n"
     ]
    }
   ],
   "source": [
    "a = int(input(\"kac sayi gireceksiniz: \"))\n",
    "i = 0\n",
    "\n",
    "while i < a:\n",
    "    i += 1\n",
    "    print(i)\n",
    "    if i == 3:\n",
    "        break"
   ]
  },
  {
   "cell_type": "code",
   "execution_count": 18,
   "metadata": {},
   "outputs": [
    {
     "name": "stdout",
     "output_type": "stream",
     "text": [
      "kac sayi gireceksiniz: 5\n",
      "1\n",
      "2\n",
      "4\n",
      "5\n"
     ]
    }
   ],
   "source": [
    "a = int(input(\"kac sayi gireceksiniz: \"))\n",
    "i = 0\n",
    "\n",
    "while i < a:\n",
    "    i += 1\n",
    "    if i == 3:\n",
    "        continue\n",
    "    print(i)"
   ]
  },
  {
   "cell_type": "code",
   "execution_count": 19,
   "metadata": {},
   "outputs": [],
   "source": [
    "# kulllanicidan n tane sayi al\n",
    "# bu sayiliran toplamini yazdir\n",
    "# kullanici 0 girdiginde program duracak"
   ]
  },
  {
   "cell_type": "code",
   "execution_count": 20,
   "metadata": {},
   "outputs": [
    {
     "name": "stdout",
     "output_type": "stream",
     "text": [
      "sayi girin: 32\n",
      "sayi girin: 17\n",
      "sayi girin: 0\n",
      "49\n"
     ]
    }
   ],
   "source": [
    "sum1 = 0\n",
    "\n",
    "while True:\n",
    "    a = int(input(\"sayi girin: \"))\n",
    "    sum1 += a\n",
    "    if a == 0:\n",
    "        break\n",
    "        \n",
    "print(sum1)     "
   ]
  },
  {
   "cell_type": "code",
   "execution_count": 21,
   "metadata": {},
   "outputs": [
    {
     "name": "stdout",
     "output_type": "stream",
     "text": [
      "kac sayi gireceksiniz3\n",
      "sayi girin: 10\n",
      "sayi girin: 20\n",
      "sayi girin: 30\n",
      "60\n"
     ]
    }
   ],
   "source": [
    "a = int(input(\"kac sayi gireceksiniz\"))\n",
    "sum = 0\n",
    "i = 0\n",
    "\n",
    "while i < a:\n",
    "    b = int(input(\"sayi girin: \"))\n",
    "    sum += b\n",
    "    i += 1\n",
    "    \n",
    "print(sum)"
   ]
  },
  {
   "cell_type": "code",
   "execution_count": null,
   "metadata": {},
   "outputs": [],
   "source": []
  }
 ],
 "metadata": {
  "kernelspec": {
   "display_name": "Python 3",
   "language": "python",
   "name": "python3"
  },
  "language_info": {
   "codemirror_mode": {
    "name": "ipython",
    "version": 3
   },
   "file_extension": ".py",
   "mimetype": "text/x-python",
   "name": "python",
   "nbconvert_exporter": "python",
   "pygments_lexer": "ipython3",
   "version": "3.6.5"
  }
 },
 "nbformat": 4,
 "nbformat_minor": 2
}
