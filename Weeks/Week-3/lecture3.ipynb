{
 "cells": [
  {
   "cell_type": "code",
   "execution_count": 1,
   "metadata": {},
   "outputs": [
    {
     "name": "stdout",
     "output_type": "stream",
     "text": [
      "Sayi: 21\n",
      "Resit\n"
     ]
    }
   ],
   "source": [
    "yas =  int(input(\"Sayi: \"))\n",
    "\n",
    "if yas >= 18:\n",
    "    print(\"Resit\")      ## pythonda suslu parantez kullanilmaz\n",
    "else:\n",
    "    print(\"Resit degil\")"
   ]
  },
  {
   "cell_type": "code",
   "execution_count": 2,
   "metadata": {},
   "outputs": [
    {
     "name": "stdout",
     "output_type": "stream",
     "text": [
      "Sayi: 15\n",
      "Resit degil\n"
     ]
    }
   ],
   "source": [
    "yas =  int(input(\"Sayi: \"))\n",
    "\n",
    "if yas >= 18:\n",
    "    print(\"Resit\")      ## pythonda suslu parantez kullanilmaz\n",
    "else:\n",
    "    print(\"Resit degil\")"
   ]
  },
  {
   "cell_type": "code",
   "execution_count": 3,
   "metadata": {},
   "outputs": [],
   "source": [
    "yas = 20"
   ]
  },
  {
   "cell_type": "code",
   "execution_count": 4,
   "metadata": {},
   "outputs": [
    {
     "data": {
      "text/plain": [
       "True"
      ]
     },
     "execution_count": 4,
     "metadata": {},
     "output_type": "execute_result"
    }
   ],
   "source": [
    "yas >= 20"
   ]
  },
  {
   "cell_type": "code",
   "execution_count": 5,
   "metadata": {},
   "outputs": [
    {
     "data": {
      "text/plain": [
       "False"
      ]
     },
     "execution_count": 5,
     "metadata": {},
     "output_type": "execute_result"
    }
   ],
   "source": [
    "yas >= 21"
   ]
  },
  {
   "cell_type": "code",
   "execution_count": 6,
   "metadata": {},
   "outputs": [],
   "source": [
    "a = 5"
   ]
  },
  {
   "cell_type": "code",
   "execution_count": 7,
   "metadata": {},
   "outputs": [],
   "source": [
    "b = 7"
   ]
  },
  {
   "cell_type": "code",
   "execution_count": 8,
   "metadata": {},
   "outputs": [
    {
     "name": "stdout",
     "output_type": "stream",
     "text": [
      "True\n"
     ]
    }
   ],
   "source": [
    "        a = 5\n",
    "        b = 7\n",
    "\n",
    "        print(a == 5 and b == 7)"
   ]
  },
  {
   "cell_type": "code",
   "execution_count": 9,
   "metadata": {},
   "outputs": [
    {
     "name": "stdout",
     "output_type": "stream",
     "text": [
      "False\n"
     ]
    }
   ],
   "source": [
    "a = 5\n",
    "b = 7\n",
    "\n",
    "print(a == 5 and b ==4)"
   ]
  },
  {
   "cell_type": "code",
   "execution_count": 10,
   "metadata": {},
   "outputs": [
    {
     "name": "stdout",
     "output_type": "stream",
     "text": [
      "True\n"
     ]
    }
   ],
   "source": [
    "a = 5\n",
    "b = 7\n",
    "\n",
    "print(a == 5 or b == 7)"
   ]
  },
  {
   "cell_type": "code",
   "execution_count": 12,
   "metadata": {},
   "outputs": [
    {
     "name": "stdout",
     "output_type": "stream",
     "text": [
      "True\n"
     ]
    }
   ],
   "source": [
    "a = 5\n",
    "b = 7\n",
    "\n",
    "print(a == 5 or b == 3)"
   ]
  },
  {
   "cell_type": "code",
   "execution_count": 13,
   "metadata": {},
   "outputs": [
    {
     "name": "stdout",
     "output_type": "stream",
     "text": [
      "False\n"
     ]
    }
   ],
   "source": [
    "a = 12\n",
    "b = 3\n",
    "\n",
    "print(a == 5 or b == 7) "
   ]
  },
  {
   "cell_type": "code",
   "execution_count": 14,
   "metadata": {},
   "outputs": [
    {
     "data": {
      "text/plain": [
       "0"
      ]
     },
     "execution_count": 14,
     "metadata": {},
     "output_type": "execute_result"
    }
   ],
   "source": [
    "12 % 2"
   ]
  },
  {
   "cell_type": "code",
   "execution_count": 15,
   "metadata": {},
   "outputs": [
    {
     "data": {
      "text/plain": [
       "1"
      ]
     },
     "execution_count": 15,
     "metadata": {},
     "output_type": "execute_result"
    }
   ],
   "source": [
    "13 % 2"
   ]
  },
  {
   "cell_type": "code",
   "execution_count": 16,
   "metadata": {},
   "outputs": [
    {
     "name": "stdout",
     "output_type": "stream",
     "text": [
      "Sayi: 135\n",
      "4, 5, 6 ya ayni anda bolunemiyor.\n"
     ]
    }
   ],
   "source": [
    "# 4, 5 ve 6 ile bolunebilme\n",
    "\n",
    "\n",
    "sayi = int(input(\"Sayi: \"))\n",
    "\n",
    "if sayi % 4 == 0 and sayi % 5 and sayi % 6 == 0:\n",
    "    print(\"4, 5, 6 ya ayni anda bolunebiliyor.\")\n",
    "else:\n",
    "    print(\"4, 5, 6 ya ayni anda bolunemiyor.\")"
   ]
  },
  {
   "cell_type": "code",
   "execution_count": 17,
   "metadata": {},
   "outputs": [
    {
     "name": "stdout",
     "output_type": "stream",
     "text": [
      "Sayi: 120\n",
      "4, 5, 6 ya ayni anda bolunemiyor.\n"
     ]
    }
   ],
   "source": [
    "# 4, 5 ve 6 ile bolunebilme\n",
    "\n",
    "\n",
    "sayi = int(input(\"Sayi: \"))\n",
    "\n",
    "if sayi % 4 == 0 and sayi % 5 and sayi % 6 == 0:\n",
    "    print(\"4, 5, 6 ya ayni anda bolunebiliyor.\")\n",
    "else:\n",
    "    print(\"4, 5, 6 ya ayni anda bolunemiyor.\")"
   ]
  },
  {
   "cell_type": "code",
   "execution_count": 18,
   "metadata": {},
   "outputs": [],
   "source": [
    "toplam = 'mert'"
   ]
  },
  {
   "cell_type": "code",
   "execution_count": 19,
   "metadata": {},
   "outputs": [
    {
     "name": "stdout",
     "output_type": "stream",
     "text": [
      "Sayi1: 12\n",
      "Sayi2: 49\n",
      "Islem giriniz(toplama, cikarma, bolme, carpma)bolme\n",
      "0.24489795918367346\n"
     ]
    }
   ],
   "source": [
    "    # Kullanicidan iki say alalim\n",
    "    # Kullanicidan kir islem alalim\n",
    "    # isleml(toplama, cikarma, bolme, carpma)\n",
    "    # aldigim isleme gore aldigimiz iki sayiyi isleme sokup sonuc yazdiralim\n",
    "\n",
    "    sayi1 = int(input(\"Sayi1: \"))\n",
    "    sayi2 = int(input(\"Sayi2: \"))\n",
    "\n",
    "    islem = input(\"Islem giriniz(toplama, cikarma, bolme, carpma)\")\n",
    "\n",
    "    if islem == 'toplama':\n",
    "        print(sayi1+sayi2)\n",
    "    elif islem == 'cikarma':\n",
    "        print(sayi1-sayi2)\n",
    "    elif islem == 'bolme':\n",
    "        print(sayi1/sayi2)\n",
    "    elif islem == 'carpma':\n",
    "        print(sayi1*sayi2)\n",
    "    else:\n",
    "        print(\"Tanimlanmayan islem\")\n"
   ]
  },
  {
   "cell_type": "code",
   "execution_count": 20,
   "metadata": {},
   "outputs": [
    {
     "name": "stdout",
     "output_type": "stream",
     "text": [
      "Sayi1: 20\n",
      "Sayi2: 10\n",
      "Islem giriniz(toplama, cikarma, bolme, carpma)toplama\n",
      "30\n"
     ]
    }
   ],
   "source": [
    "# Kullanicidan iki say alalim\n",
    "# Kullanicidan kir islem alalim\n",
    "# isleml(toplama, cikarma, bolme, carpma)\n",
    "# aldigim isleme gore aldigimiz iki sayiyi isleme sokup sonuc yazdiralim\n",
    "\n",
    "sayi1 = int(input(\"Sayi1: \"))\n",
    "sayi2 = int(input(\"Sayi2: \"))\n",
    "\n",
    "islem = input(\"Islem giriniz(toplama, cikarma, bolme, carpma)\")\n",
    "\n",
    "if islem == 'toplama':\n",
    "    print(sayi1+sayi2)\n",
    "elif islem == 'cikarma':\n",
    "    print(sayi1-sayi2)\n",
    "elif islem == 'bolme':\n",
    "    print(sayi1/sayi2)\n",
    "elif islem == 'carpma':\n",
    "    print(sayi1*sayi2)\n",
    "else:\n",
    "    print(\"Tanimlanmayan islem\")\n",
    "\n"
   ]
  },
  {
   "cell_type": "code",
   "execution_count": 21,
   "metadata": {},
   "outputs": [],
   "source": [
    "a= 5"
   ]
  },
  {
   "cell_type": "code",
   "execution_count": 22,
   "metadata": {},
   "outputs": [
    {
     "data": {
      "text/plain": [
       "int"
      ]
     },
     "execution_count": 22,
     "metadata": {},
     "output_type": "execute_result"
    }
   ],
   "source": [
    "type(a)"
   ]
  },
  {
   "cell_type": "code",
   "execution_count": 23,
   "metadata": {},
   "outputs": [
    {
     "data": {
      "text/plain": [
       "float"
      ]
     },
     "execution_count": 23,
     "metadata": {},
     "output_type": "execute_result"
    }
   ],
   "source": [
    "type(9/4)"
   ]
  },
  {
   "cell_type": "code",
   "execution_count": 24,
   "metadata": {},
   "outputs": [
    {
     "name": "stdout",
     "output_type": "stream",
     "text": [
      "Sayi1: 20\n",
      "Sayi2: 10\n",
      "Islem giriniz(toplama, cikarma, bolme, carpma)bolme\n",
      "2.0\n"
     ]
    }
   ],
   "source": [
    "# Kullanicidan iki say alalim\n",
    "# Kullanicidan kir islem alalim\n",
    "# isleml(toplama, cikarma, bolme, carpma)\n",
    "# aldigim isleme gore aldigimiz iki sayiyi isleme sokup sonuc yazdiralim\n",
    "\n",
    "sayi1 = int(input(\"Sayi1: \"))\n",
    "sayi2 = int(input(\"Sayi2: \"))\n",
    "\n",
    "islem = input(\"Islem giriniz(toplama, cikarma, bolme, carpma)\")\n",
    "\n",
    "if islem == 'toplama':\n",
    "    print(sayi1+sayi2)\n",
    "elif islem == 'cikarma':\n",
    "    print(sayi1-sayi2)\n",
    "elif islem == 'bolme':\n",
    "    print(sayi1/sayi2)\n",
    "elif islem == 'carpma':\n",
    "    print(sayi1*sayi2)\n",
    "else:\n",
    "    print(\"Tanimlanmayan islem\")\n"
   ]
  },
  {
   "cell_type": "code",
   "execution_count": 25,
   "metadata": {},
   "outputs": [
    {
     "name": "stdout",
     "output_type": "stream",
     "text": [
      "Sayi1: 234\n",
      "Sayi2: 18\n",
      "Islem giriniz(toplama, cikarma, bolme, carpma)thetet\n",
      "Tanimlanmayan islem\n"
     ]
    }
   ],
   "source": [
    "# Kullanicidan iki say alalim\n",
    "# Kullanicidan kir islem alalim\n",
    "# isleml(toplama, cikarma, bolme, carpma)\n",
    "# aldigim isleme gore aldigimiz iki sayiyi isleme sokup sonuc yazdiralim\n",
    "\n",
    "sayi1 = int(input(\"Sayi1: \"))\n",
    "sayi2 = int(input(\"Sayi2: \"))\n",
    "\n",
    "islem = input(\"Islem giriniz(toplama, cikarma, bolme, carpma)\")\n",
    "\n",
    "if islem == 'toplama':\n",
    "    print(sayi1+sayi2)\n",
    "elif islem == 'cikarma':\n",
    "    print(sayi1-sayi2)\n",
    "elif islem == 'bolme':\n",
    "    print(sayi1/sayi2)\n",
    "elif islem == 'carpma':\n",
    "    print(sayi1*sayi2)\n",
    "else:\n",
    "    print(\"Tanimlanmayan islem\")\n"
   ]
  },
  {
   "cell_type": "code",
   "execution_count": 26,
   "metadata": {},
   "outputs": [
    {
     "name": "stdout",
     "output_type": "stream",
     "text": [
      "hello\n"
     ]
    }
   ],
   "source": [
    "print(\"hello\")"
   ]
  },
  {
   "cell_type": "code",
   "execution_count": 27,
   "metadata": {},
   "outputs": [
    {
     "name": "stdout",
     "output_type": "stream",
     "text": [
      "hello\n",
      "hello\n",
      "hello\n"
     ]
    }
   ],
   "source": [
    "print(\"hello\")\n",
    "print(\"hello\")\n",
    "print(\"hello\")"
   ]
  },
  {
   "cell_type": "code",
   "execution_count": 29,
   "metadata": {},
   "outputs": [],
   "source": [
    "#for ve range"
   ]
  },
  {
   "cell_type": "code",
   "execution_count": 30,
   "metadata": {},
   "outputs": [
    {
     "data": {
      "text/plain": [
       "range(2, 10, 3)"
      ]
     },
     "execution_count": 30,
     "metadata": {},
     "output_type": "execute_result"
    }
   ],
   "source": [
    "range(2, 10, 3)"
   ]
  },
  {
   "cell_type": "code",
   "execution_count": 31,
   "metadata": {},
   "outputs": [
    {
     "name": "stdout",
     "output_type": "stream",
     "text": [
      "1\n",
      "2\n",
      "3\n",
      "4\n",
      "5\n",
      "6\n",
      "7\n",
      "8\n",
      "9\n"
     ]
    }
   ],
   "source": [
    "for i in range(1, 10):\n",
    "    print(i)"
   ]
  },
  {
   "cell_type": "code",
   "execution_count": 32,
   "metadata": {},
   "outputs": [
    {
     "name": "stdout",
     "output_type": "stream",
     "text": [
      "1\n",
      "3\n",
      "5\n",
      "7\n",
      "9\n"
     ]
    }
   ],
   "source": [
    "for i in range(1, 10, 2):\n",
    "    print(i)"
   ]
  },
  {
   "cell_type": "code",
   "execution_count": 34,
   "metadata": {},
   "outputs": [
    {
     "name": "stdout",
     "output_type": "stream",
     "text": [
      "hello\n",
      "hello\n",
      "hello\n",
      "hello\n",
      "hello\n",
      "hello\n",
      "hello\n",
      "hello\n",
      "hello\n"
     ]
    }
   ],
   "source": [
    "for i in range(1, 10):\n",
    "    print(\"hello\")"
   ]
  },
  {
   "cell_type": "code",
   "execution_count": 35,
   "metadata": {},
   "outputs": [
    {
     "name": "stdout",
     "output_type": "stream",
     "text": [
      "hello\n",
      "hello\n",
      "hello\n",
      "hello\n",
      "hello\n",
      "hello\n",
      "hello\n",
      "hello\n",
      "hello\n",
      "hello\n",
      "hello\n",
      "hello\n",
      "hello\n",
      "hello\n",
      "hello\n",
      "hello\n",
      "hello\n",
      "hello\n",
      "hello\n",
      "hello\n",
      "hello\n",
      "hello\n",
      "hello\n",
      "hello\n",
      "hello\n",
      "hello\n",
      "hello\n",
      "hello\n",
      "hello\n",
      "hello\n",
      "hello\n",
      "hello\n",
      "hello\n",
      "hello\n",
      "hello\n",
      "hello\n",
      "hello\n",
      "hello\n",
      "hello\n",
      "hello\n",
      "hello\n",
      "hello\n",
      "hello\n",
      "hello\n",
      "hello\n",
      "hello\n",
      "hello\n",
      "hello\n",
      "hello\n",
      "hello\n",
      "hello\n",
      "hello\n",
      "hello\n",
      "hello\n",
      "hello\n",
      "hello\n",
      "hello\n",
      "hello\n",
      "hello\n",
      "hello\n",
      "hello\n",
      "hello\n",
      "hello\n",
      "hello\n",
      "hello\n",
      "hello\n",
      "hello\n",
      "hello\n",
      "hello\n",
      "hello\n",
      "hello\n",
      "hello\n",
      "hello\n",
      "hello\n",
      "hello\n",
      "hello\n",
      "hello\n",
      "hello\n",
      "hello\n",
      "hello\n",
      "hello\n",
      "hello\n",
      "hello\n",
      "hello\n",
      "hello\n",
      "hello\n",
      "hello\n",
      "hello\n",
      "hello\n",
      "hello\n",
      "hello\n",
      "hello\n",
      "hello\n",
      "hello\n",
      "hello\n",
      "hello\n",
      "hello\n",
      "hello\n",
      "hello\n"
     ]
    }
   ],
   "source": [
    "for i in range(1, 100):\n",
    "    print(\"hello\")"
   ]
  },
  {
   "cell_type": "code",
   "execution_count": 36,
   "metadata": {},
   "outputs": [
    {
     "name": "stdout",
     "output_type": "stream",
     "text": [
      "sayi1: 2\n",
      "sayi2: 20\n",
      "2\n",
      "3\n",
      "4\n",
      "5\n",
      "6\n",
      "7\n",
      "8\n",
      "9\n",
      "10\n",
      "11\n",
      "12\n",
      "13\n",
      "14\n",
      "15\n",
      "16\n",
      "17\n",
      "18\n",
      "19\n"
     ]
    }
   ],
   "source": [
    "a = int(input(\"sayi1: \"))\n",
    "b = int(input(\"sayi2: \"))\n",
    "\n",
    "for i in range(a, b):\n",
    "    print(i)"
   ]
  },
  {
   "cell_type": "code",
   "execution_count": 37,
   "metadata": {},
   "outputs": [
    {
     "name": "stdout",
     "output_type": "stream",
     "text": [
      "sayi1: 5\n",
      "sayi2: 10\n",
      "5\n",
      "6\n",
      "7\n",
      "8\n",
      "9\n"
     ]
    }
   ],
   "source": [
    "a = int(input(\"sayi1: \"))\n",
    "b = int(input(\"sayi2: \"))\n",
    "\n",
    "for i in range(a, b):\n",
    "    print(i)"
   ]
  },
  {
   "cell_type": "code",
   "execution_count": 38,
   "metadata": {},
   "outputs": [
    {
     "name": "stdout",
     "output_type": "stream",
     "text": [
      "sayi1: 2\n",
      "sayi2: 20\n",
      "2\n",
      "5\n",
      "8\n",
      "11\n",
      "14\n",
      "17\n"
     ]
    }
   ],
   "source": [
    "a = int(input(\"sayi1: \"))\n",
    "b = int(input(\"sayi2: \"))\n",
    "\n",
    "for i in range(a, b, 3):\n",
    "    print(i)"
   ]
  },
  {
   "cell_type": "code",
   "execution_count": 39,
   "metadata": {},
   "outputs": [
    {
     "name": "stdout",
     "output_type": "stream",
     "text": [
      "sayi1: 1\n",
      "sayi2: 10\n",
      "sayi3: 2\n",
      "1\n",
      "3\n",
      "5\n",
      "7\n",
      "9\n"
     ]
    }
   ],
   "source": [
    "a = int(input(\"sayi1: \"))\n",
    "b = int(input(\"sayi2: \"))\n",
    "c = int(input(\"sayi3: \"))\n",
    "\n",
    "for i in range(a, b, c):\n",
    "    print(i)"
   ]
  },
  {
   "cell_type": "code",
   "execution_count": 40,
   "metadata": {},
   "outputs": [
    {
     "name": "stdout",
     "output_type": "stream",
     "text": [
      "sayi1: 1\n",
      "sayi2: 10\n",
      "45\n"
     ]
    }
   ],
   "source": [
    "a = int(input(\"sayi1: \"))\n",
    "b = int(input(\"sayi2: \"))\n",
    "sum1 = 0\n",
    "\n",
    "for i in range(a, b):\n",
    "    sum1 += i     #sum1 = sum1 + i   ayni islemler\n",
    "    \n",
    "print(sum1)"
   ]
  },
  {
   "cell_type": "code",
   "execution_count": 41,
   "metadata": {},
   "outputs": [
    {
     "name": "stdout",
     "output_type": "stream",
     "text": [
      "sayi1: 10\n",
      "sayi2: 20\n",
      "145\n"
     ]
    }
   ],
   "source": [
    "a = int(input(\"sayi1: \"))\n",
    "b = int(input(\"sayi2: \"))\n",
    "sum1 = 0\n",
    "\n",
    "for i in range(a, b):\n",
    "    sum1 += i     #sum1 = sum1 + i   ayni islemler\n",
    "    \n",
    "print(sum1)"
   ]
  },
  {
   "cell_type": "code",
   "execution_count": 42,
   "metadata": {},
   "outputs": [],
   "source": [
    "# kullanicidan n tane sayi al\n",
    "# bu sayilarin carpimi"
   ]
  },
  {
   "cell_type": "code",
   "execution_count": 43,
   "metadata": {},
   "outputs": [
    {
     "name": "stdout",
     "output_type": "stream",
     "text": [
      "sayi1: 5\n",
      "sayi2: 12\n",
      "1663200\n"
     ]
    }
   ],
   "source": [
    "a = int(input(\"sayi1: \"))\n",
    "b = int(input(\"sayi2: \"))\n",
    "mult = 1\n",
    "\n",
    "for i in range(a, b):\n",
    "    mult*=i\n",
    "    \n",
    "print(mult)"
   ]
  },
  {
   "cell_type": "code",
   "execution_count": 44,
   "metadata": {},
   "outputs": [
    {
     "name": "stdout",
     "output_type": "stream",
     "text": [
      "sayi1: 1\n",
      "sayi2: 10\n",
      "362880\n"
     ]
    }
   ],
   "source": [
    "a = int(input(\"sayi1: \"))\n",
    "b = int(input(\"sayi2: \"))\n",
    "mult = 1\n",
    "\n",
    "for i in range(a, b):\n",
    "    mult*=i\n",
    "    \n",
    "print(mult)"
   ]
  },
  {
   "cell_type": "code",
   "execution_count": 45,
   "metadata": {},
   "outputs": [
    {
     "name": "stdout",
     "output_type": "stream",
     "text": [
      "sayi1: 7\n",
      "sayi2: 12\n",
      "sayi girin21\n",
      "sayi girin13\n",
      "sayi girin49\n",
      "sayi girin63\n",
      "sayi girin72\n",
      "60678072\n"
     ]
    }
   ],
   "source": [
    "a = int(input(\"sayi1: \"))\n",
    "b = int(input(\"sayi2: \"))\n",
    "mult = 1\n",
    "\n",
    "for i in range(a, b):\n",
    "    c = int(input(\"sayi girin\"))\n",
    "    mult*=c\n",
    "    \n",
    "print(mult)"
   ]
  },
  {
   "cell_type": "code",
   "execution_count": 46,
   "metadata": {},
   "outputs": [],
   "source": [
    "# kullanicidan aralik belirlemek icin iki sayi al\n",
    "# sayilarin cift veya tek olma durumuna bak"
   ]
  },
  {
   "cell_type": "code",
   "execution_count": 47,
   "metadata": {},
   "outputs": [
    {
     "name": "stdout",
     "output_type": "stream",
     "text": [
      "sayi1: 15\n",
      "sayi2: 23\n",
      "Tek\n",
      "Cift\n",
      "Tek\n",
      "Cift\n",
      "Tek\n",
      "Cift\n",
      "Tek\n",
      "Cift\n"
     ]
    }
   ],
   "source": [
    "a = int(input(\"sayi1: \"))\n",
    "b = int(input(\"sayi2: \"))\n",
    "\n",
    "for i in range(a, b):\n",
    "    if i % 2 == 0:\n",
    "        print(\"Cift\")\n",
    "    else:\n",
    "        print(\"Tek\")"
   ]
  },
  {
   "cell_type": "code",
   "execution_count": null,
   "metadata": {},
   "outputs": [],
   "source": []
  }
 ],
 "metadata": {
  "kernelspec": {
   "display_name": "Python 3",
   "language": "python",
   "name": "python3"
  },
  "language_info": {
   "codemirror_mode": {
    "name": "ipython",
    "version": 3
   },
   "file_extension": ".py",
   "mimetype": "text/x-python",
   "name": "python",
   "nbconvert_exporter": "python",
   "pygments_lexer": "ipython3",
   "version": "3.7.0"
  }
 },
 "nbformat": 4,
 "nbformat_minor": 2
}
