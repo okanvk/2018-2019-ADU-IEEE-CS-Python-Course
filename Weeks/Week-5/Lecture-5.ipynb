{
 "cells": [
  {
   "cell_type": "code",
   "execution_count": 1,
   "metadata": {},
   "outputs": [
    {
     "name": "stdout",
     "output_type": "stream",
     "text": [
      "Sayi1: 10\n",
      "Sayi2 20\n",
      "Sayi3 30\n",
      "Sayi440\n",
      "Sayi5 50\n",
      "Toplam:  150\n",
      "Ortalama:  30.0\n"
     ]
    }
   ],
   "source": [
    "# for\n",
    "\n",
    "# 5 tane sayi almak istiyoruz\n",
    "# bu sayilarin toplami ve ortalamasini\n",
    "# bulmak istiyoruz\n",
    "\n",
    "sayi1 = int(input(\"Sayi1: \"))\n",
    "sayi2 = int(input(\"Sayi2 \"))\n",
    "sayi3= int(input(\"Sayi3 \"))\n",
    "sayi4= int(input(\"Sayi4\"))\n",
    "sayi5= int(input(\"Sayi5 \"))\n",
    "\n",
    "toplam = sayi1+ sayi2+ sayi3+ sayi4 + sayi5\n",
    "\n",
    "ortalama = toplam / 5\n",
    "\n",
    "print(\"Toplam: \", toplam)\n",
    "print(\"Ortalama: \", ortalama)"
   ]
  },
  {
   "cell_type": "code",
   "execution_count": 2,
   "metadata": {},
   "outputs": [
    {
     "name": "stdout",
     "output_type": "stream",
     "text": [
      "Kac sayi girilecek: 3\n",
      "Sayi:10\n",
      "Sayi:20\n",
      "Sayi:30\n",
      "60\n",
      "20.0\n"
     ]
    }
   ],
   "source": [
    "kac_kez = int(input(\"Kac sayi girilecek: \"))\n",
    "\n",
    "toplam = 0\n",
    "\n",
    "for i in range(0, kac_kez):\n",
    "    sayi1 = int(input(\"Sayi:\"))\n",
    "    toplam = toplam + sayi1\n",
    "\n",
    "ortalama = toplam / kac_kez\n",
    "\n",
    "print(toplam)\n",
    "print(ortalama)"
   ]
  },
  {
   "cell_type": "code",
   "execution_count": 4,
   "metadata": {},
   "outputs": [
    {
     "name": "stdout",
     "output_type": "stream",
     "text": [
      "Kac sayi girilecek: 4\n",
      "Sayi:10\n",
      "Sayi:20\n",
      "Sayi:30\n",
      "Sayi:40\n",
      "100\n",
      "25.0\n"
     ]
    }
   ],
   "source": [
    "kac_kez = int(input(\"Kac sayi girilecek: \"))\n",
    "\n",
    "toplam = 0\n",
    "\n",
    "for i in range(0, kac_kez):\n",
    "    sayi1 = int(input(\"Sayi:\"))\n",
    "    toplam = toplam + sayi1\n",
    "\n",
    "ortalama = toplam / kac_kez\n",
    "\n",
    "print(toplam)\n",
    "print(ortalama)\n",
    "\n",
    "# 1. durumda toplam = 0\n",
    "\n",
    "# dongu kismi\n",
    "#    toplam = toplam(0) + 10\n",
    "#    toplam = toplam(10) + 20\n",
    "#    toplam = toplam(30) + 30\n",
    "#    toplam = toplam(60) + 40"
   ]
  },
  {
   "cell_type": "code",
   "execution_count": 5,
   "metadata": {},
   "outputs": [],
   "source": [
    "# alinan 2 sayi arasindaki sayilari ekrana\n",
    "# yazdiran program\n",
    "\n",
    "# sayi1 : 10\n",
    "# sayi2 : 25\n",
    "# 10, 11, 12, ..., 23, 24\n"
   ]
  },
  {
   "cell_type": "code",
   "execution_count": 6,
   "metadata": {},
   "outputs": [
    {
     "name": "stdout",
     "output_type": "stream",
     "text": [
      "Baslangic:10\n",
      "Son:20\n",
      "10\n",
      "11\n",
      "12\n",
      "13\n",
      "14\n",
      "15\n",
      "16\n",
      "17\n",
      "18\n",
      "19\n"
     ]
    }
   ],
   "source": [
    "baslangic = int(input(\"Baslangic:\"))\n",
    "\n",
    "son = int(input(\"Son:\"))\n",
    "\n",
    "for i in range(baslangic, son):\n",
    "    print(i)"
   ]
  },
  {
   "cell_type": "code",
   "execution_count": 7,
   "metadata": {},
   "outputs": [],
   "source": [
    "#faktoriyel hesaplama"
   ]
  },
  {
   "cell_type": "code",
   "execution_count": 8,
   "metadata": {},
   "outputs": [
    {
     "name": "stdout",
     "output_type": "stream",
     "text": [
      "Factoriel i alinacak sayiyi girin: 5\n",
      "120\n"
     ]
    }
   ],
   "source": [
    "fact = int(input(\"Factoriel i alinacak sayiyi girin: \"))\n",
    "\n",
    "sum = 1\n",
    "\n",
    "for i in range(1, fact +1):\n",
    "    sum = sum * i\n",
    "    \n",
    "print(sum)  "
   ]
  },
  {
   "cell_type": "code",
   "execution_count": 9,
   "metadata": {},
   "outputs": [
    {
     "name": "stdout",
     "output_type": "stream",
     "text": [
      "enter number: 5\n",
      "result is  120\n"
     ]
    }
   ],
   "source": [
    "number = int(input(\"enter number: \"))\n",
    "\n",
    "fact = 1\n",
    "i = 1\n",
    "\n",
    "while i <= number:\n",
    "    fact *= i\n",
    "    i += 1\n",
    "    \n",
    "print(\"result is \", fact)     "
   ]
  },
  {
   "cell_type": "code",
   "execution_count": null,
   "metadata": {},
   "outputs": [],
   "source": [
    "number = int(input(\"enter number\"))\n",
    "\n",
    "i = 1\n",
    "checkSum = 0\n",
    "while i < (number/2):\n",
    "    checkSum += i\n",
    "    \n",
    "if checkSum == number:\n",
    "    print(\"True\")\n",
    "else:\n",
    "    print(\"False\")"
   ]
  },
  {
   "cell_type": "code",
   "execution_count": 1,
   "metadata": {},
   "outputs": [],
   "source": [
    "# kullanicidan aldiginiz fiyatin \n",
    "# KDV li halini hesaplama\n",
    "# %18"
   ]
  },
  {
   "cell_type": "code",
   "execution_count": 2,
   "metadata": {},
   "outputs": [
    {
     "name": "stdout",
     "output_type": "stream",
     "text": [
      "Fiyat: 22\n",
      "25.96\n"
     ]
    }
   ],
   "source": [
    "fiyat = int(input(\"Fiyat: \"))\n",
    "\n",
    "kdv = 0.18\n",
    "\n",
    "toplam_fiyat = (fiyat*kdv) + fiyat\n",
    "\n",
    "print(toplam_fiyat)"
   ]
  },
  {
   "cell_type": "code",
   "execution_count": 3,
   "metadata": {},
   "outputs": [],
   "source": [
    "# kullanici 3 tane ucgen kenari girecek\n",
    "# bu kenar ozelliklerine gore\n",
    "# ucgenin (Eskenar, ikizkenar, cesitkenar) turunu\n",
    "# belirleyecegiz"
   ]
  },
  {
   "cell_type": "code",
   "execution_count": 4,
   "metadata": {},
   "outputs": [
    {
     "name": "stdout",
     "output_type": "stream",
     "text": [
      "Kenar 1:10\n",
      "Kenar 2:20\n",
      "Kenar 3:20\n",
      "Ikizkenar ucgen\n"
     ]
    }
   ],
   "source": [
    "kenar1 = int(input(\"Kenar 1:\"))\n",
    "kenar2 = int(input(\"Kenar 2:\"))\n",
    "kenar3 = int(input(\"Kenar 3:\"))\n",
    "\n",
    "if kenar1 == kenar2 == kenar3:\n",
    "    print(\"Eskenar ucgen\")\n",
    "elif kenar1 == kenar2 or kenar1 == kenar3 or kenar2 == kenar3:\n",
    "    print(\"Ikizkenar ucgen\")\n",
    "else:\n",
    "    print(\"Cesitkenar ucgen\")\n",
    "    "
   ]
  },
  {
   "cell_type": "code",
   "execution_count": 5,
   "metadata": {},
   "outputs": [
    {
     "name": "stdout",
     "output_type": "stream",
     "text": [
      "Kenar 1:20\n",
      "Kenar 2:20\n",
      "Kenar 3:20\n",
      "Eskenar ucgen\n"
     ]
    }
   ],
   "source": [
    "kenar1 = int(input(\"Kenar 1:\"))\n",
    "kenar2 = int(input(\"Kenar 2:\"))\n",
    "kenar3 = int(input(\"Kenar 3:\"))\n",
    "\n",
    "if kenar1 == kenar2 == kenar3:\n",
    "    print(\"Eskenar ucgen\")\n",
    "elif kenar1 == kenar2 or kenar1 == kenar3 or kenar2 == kenar3:\n",
    "    print(\"Ikizkenar ucgen\")\n",
    "else:\n",
    "    print(\"Cesitkenar ucgen\")\n",
    "    "
   ]
  },
  {
   "cell_type": "code",
   "execution_count": 6,
   "metadata": {},
   "outputs": [],
   "source": [
    "# kullanicidan sicaklik degeri aliyoruz.\n",
    "# sicaklik derecesi 0' dan kucukse kati\n",
    "# sicaklik derecesi 0 - 100 arasinda ise sivi\n",
    "# sicaklik derecesi 100' den buyukse gaz\n"
   ]
  },
  {
   "cell_type": "code",
   "execution_count": 7,
   "metadata": {},
   "outputs": [
    {
     "name": "stdout",
     "output_type": "stream",
     "text": [
      "Sicaklik: 100\n",
      "gaz\n"
     ]
    }
   ],
   "source": [
    "derece = int(input(\"Sicaklik: \"))\n",
    "\n",
    "if derece < 0:\n",
    "    print(\"kati\")\n",
    "elif derece >= 0 and derece < 100:\n",
    "    print(\"sivi\")\n",
    "else:\n",
    "    print(\"gaz\")"
   ]
  },
  {
   "cell_type": "code",
   "execution_count": 8,
   "metadata": {},
   "outputs": [],
   "source": [
    "# carpma islemi kullanmadan klavyeden alinan sayinin 3 ile carpimi"
   ]
  },
  {
   "cell_type": "code",
   "execution_count": 9,
   "metadata": {},
   "outputs": [
    {
     "name": "stdout",
     "output_type": "stream",
     "text": [
      "sayi girin20\n",
      "60\n"
     ]
    }
   ],
   "source": [
    "sayi = int(input(\"sayi girin\"))\n",
    "\n",
    "carpim = sayi+sayi+sayi\n",
    "\n",
    "print(carpim)"
   ]
  },
  {
   "cell_type": "code",
   "execution_count": 10,
   "metadata": {},
   "outputs": [
    {
     "name": "stdout",
     "output_type": "stream",
     "text": [
      "sayi girin10\n",
      "kac ile carpacaksiniz4\n",
      "40\n"
     ]
    }
   ],
   "source": [
    "sayi = int(input(\"sayi girin\"))\n",
    "\n",
    "sayi2 = int(input(\"kac ile carpacaksiniz\"))\n",
    "\n",
    "i = 0\n",
    "sum1 = 0\n",
    "\n",
    "while i < sayi:\n",
    "    sum1 += sayi2\n",
    "    i += 1\n",
    "    \n",
    "print(sum1)"
   ]
  },
  {
   "cell_type": "code",
   "execution_count": 11,
   "metadata": {},
   "outputs": [],
   "source": [
    "# yukseklik ve taban uzunlugu alinarak \n",
    "# ucgen alanini hesaplama\n",
    "# taban alani * yukseklik / 2"
   ]
  },
  {
   "cell_type": "code",
   "execution_count": 12,
   "metadata": {},
   "outputs": [
    {
     "name": "stdout",
     "output_type": "stream",
     "text": [
      "taban uzunlugunu girin: 15\n",
      "yukseklik girin: 20\n",
      "150.0\n"
     ]
    }
   ],
   "source": [
    "sayi1 = int(input(\"taban uzunlugunu girin: \"))\n",
    "sayi2 = int(input(\"yukseklik girin: \"))\n",
    "\n",
    "result = (sayi1 * sayi2) / 2\n",
    "\n",
    "print(result)"
   ]
  },
  {
   "cell_type": "code",
   "execution_count": 13,
   "metadata": {},
   "outputs": [
    {
     "name": "stdout",
     "output_type": "stream",
     "text": [
      "Filiz Dogum Gunun Kutlu Olsun\n",
      "Filiz Dogum Gunun Kutlu Olsun\n",
      "Filiz Dogum Gunun Kutlu Olsun\n",
      "Filiz Dogum Gunun Kutlu Olsun\n",
      "Filiz Dogum Gunun Kutlu Olsun\n",
      "Filiz Dogum Gunun Kutlu Olsun\n",
      "Filiz Dogum Gunun Kutlu Olsun\n",
      "Filiz Dogum Gunun Kutlu Olsun\n",
      "Filiz Dogum Gunun Kutlu Olsun\n",
      "Filiz Dogum Gunun Kutlu Olsun\n",
      "Filiz Dogum Gunun Kutlu Olsun\n",
      "Filiz Dogum Gunun Kutlu Olsun\n",
      "Filiz Dogum Gunun Kutlu Olsun\n",
      "Filiz Dogum Gunun Kutlu Olsun\n",
      "Filiz Dogum Gunun Kutlu Olsun\n",
      "Filiz Dogum Gunun Kutlu Olsun\n",
      "Filiz Dogum Gunun Kutlu Olsun\n",
      "Filiz Dogum Gunun Kutlu Olsun\n",
      "Filiz Dogum Gunun Kutlu Olsun\n",
      "Filiz Dogum Gunun Kutlu Olsun\n",
      "Filiz Dogum Gunun Kutlu Olsun\n"
     ]
    }
   ],
   "source": [
    "for i in range(21):\n",
    "    print(\"Filiz Dogum Gunun Kutlu Olsun\"\n",
    "# Doğum günün kutlu olsun filiz"
   ]
  },
  {
   "cell_type": "code",
   "execution_count": 18,
   "metadata": {},
   "outputs": [
    {
     "name": "stdout",
     "output_type": "stream",
     "text": [
      "enter your number:12\n",
      "Your number is not perfect\n"
     ]
    }
   ],
   "source": [
    "# perfect number\n",
    "# 6 = 1 + 2 + 3\n",
    "\n",
    "# bir sayi al\n",
    "# sayinin perfect number olup olmadigina bak\n",
    "number=int(input(\"enter your number:\"))\n",
    "\n",
    "sum1=0\n",
    "i=1\n",
    "\n",
    "while i<=(number/2):\n",
    "  if number%i==0 :\n",
    "    sum1+=i\n",
    "  i+=1\n",
    "\n",
    "if(sum1==number):\n",
    "  print(\"Your number is perfect\")\n",
    "else:\n",
    "  print(\"Your number is not perfect\")\n"
   ]
  },
  {
   "cell_type": "code",
   "execution_count": 19,
   "metadata": {},
   "outputs": [
    {
     "name": "stdout",
     "output_type": "stream",
     "text": [
      "enter your number:6\n",
      "Your number is perfect\n"
     ]
    }
   ],
   "source": [
    "# perfect number\n",
    "# 6 = 1 + 2 + 3\n",
    "\n",
    "# bir sayi al\n",
    "# sayinin perfect number olup olmadigina bak\n",
    "number=int(input(\"enter your number:\"))\n",
    "\n",
    "sum1=0\n",
    "i=1\n",
    "\n",
    "while i<=(number/2):\n",
    "  if(number%i==0):\n",
    "    sum1+=i\n",
    "  i+=1\n",
    "\n",
    "if(sum1==number):\n",
    "  print(\"Your number is perfect\")\n",
    "else:\n",
    "  print(\"Your number is not perfect\")\n"
   ]
  },
  {
   "cell_type": "code",
   "execution_count": null,
   "metadata": {},
   "outputs": [],
   "source": []
  }
 ],
 "metadata": {
  "kernelspec": {
   "display_name": "Python 3",
   "language": "python",
   "name": "python3"
  },
  "language_info": {
   "codemirror_mode": {
    "name": "ipython",
    "version": 3
   },
   "file_extension": ".py",
   "mimetype": "text/x-python",
   "name": "python",
   "nbconvert_exporter": "python",
   "pygments_lexer": "ipython3",
   "version": "3.6.5"
  }
 },
 "nbformat": 4,
 "nbformat_minor": 2
}
