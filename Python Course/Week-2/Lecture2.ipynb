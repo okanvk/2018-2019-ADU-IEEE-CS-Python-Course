{
 "cells": [
  {
   "cell_type": "code",
   "execution_count": 1,
   "metadata": {},
   "outputs": [
    {
     "name": "stdout",
     "output_type": "stream",
     "text": [
      "10\n",
      "syouohh\n",
      "5\n"
     ]
    }
   ],
   "source": [
    "Degisken_4=10\n",
    "degisken =5\n",
    "a=\"syouohh\"\n",
    "print(Degisken_4)\n",
    "print(a)\n",
    "print(degisken)"
   ]
  },
  {
   "cell_type": "code",
   "execution_count": 2,
   "metadata": {},
   "outputs": [
    {
     "name": "stdout",
     "output_type": "stream",
     "text": [
      "Enter number1: \n",
      "Enter number2:12\n"
     ]
    }
   ],
   "source": [
    "number1= input(\"Enter number1: \") #bu durumda sayiyi string olarak kaydeder\n",
    "number2= int(input(\"Enter number2:\")) #sayiyi integer olarak kaydeder "
   ]
  },
  {
   "cell_type": "code",
   "execution_count": 3,
   "metadata": {},
   "outputs": [
    {
     "name": "stdout",
     "output_type": "stream",
     "text": [
      "\n",
      "12\n"
     ]
    }
   ],
   "source": [
    "print(number1)\n",
    "print(number2)"
   ]
  },
  {
   "cell_type": "code",
   "execution_count": 4,
   "metadata": {},
   "outputs": [
    {
     "name": "stdout",
     "output_type": "stream",
     "text": [
      "Enter number1: 35\n",
      "Enter number2: 40\n",
      "Enter number3: 20\n",
      "95\n",
      "31.666666666666668\n"
     ]
    }
   ],
   "source": [
    "number1 = int(input(\"Enter number1: \"))\n",
    "number2 =int(input(\"Enter number2: \"))\n",
    "number3 =int(input(\"Enter number3: \"))\n",
    "\n",
    "toplam = number1 + number2 + number3\n",
    "\n",
    "result = toplam/3\n",
    "print(toplam)\n",
    "print(result)"
   ]
  },
  {
   "cell_type": "code",
   "execution_count": 5,
   "metadata": {},
   "outputs": [
    {
     "name": "stdout",
     "output_type": "stream",
     "text": [
      "Enter number1: 20.2\n",
      "Enter number2: 35.3\n",
      "Enter number3: 56.4\n",
      "111.9\n",
      "37.300000000000004\n"
     ]
    }
   ],
   "source": [
    "number1 = float(input(\"Enter number1: \"))\n",
    "number2 = float(input(\"Enter number2: \"))\n",
    "number3 = float(input(\"Enter number3: \"))\n",
    "\n",
    "toplam = number1 + number2 + number3\n",
    "\n",
    "result = toplam/3\n",
    "print(toplam)\n",
    "print(result)"
   ]
  },
  {
   "cell_type": "code",
   "execution_count": 1,
   "metadata": {},
   "outputs": [
    {
     "name": "stdout",
     "output_type": "stream",
     "text": [
      "vize:60.5\n",
      "final47\n",
      "52.400000000000006\n"
     ]
    }
   ],
   "source": [
    "vize = float(input(\"vize:\"))\n",
    "final = float(input(\"final\"))\n",
    "vize1 = vize*0.4\n",
    "final1 = final*0.6\n",
    "ortalama = vize1 + final1\n",
    "print(ortalama)"
   ]
  },
  {
   "cell_type": "code",
   "execution_count": 2,
   "metadata": {},
   "outputs": [
    {
     "name": "stdout",
     "output_type": "stream",
     "text": [
      "vize:\n",
      "50\n",
      "final55\n",
      "53.0\n"
     ]
    }
   ],
   "source": [
    "vize = float(input(\"vize:\"+\"\\n\")) # \\n ile bir satir alttan devam ediyoruz\n",
    "final = float(input(\"final\"))\n",
    "vize1 = vize*0.4\n",
    "final1 = final*0.6\n",
    "ortalama = vize1 + final1\n",
    "print(ortalama)"
   ]
  },
  {
   "cell_type": "code",
   "execution_count": 3,
   "metadata": {},
   "outputs": [
    {
     "name": "stdout",
     "output_type": "stream",
     "text": [
      "ugurcankok\n"
     ]
    }
   ],
   "source": [
    "print(\"ugurcan\"+\"kok\") # + kullanarak iki stringi birlestirdik"
   ]
  },
  {
   "cell_type": "code",
   "execution_count": 6,
   "metadata": {},
   "outputs": [
    {
     "name": "stdout",
     "output_type": "stream",
     "text": [
      "False\n",
      "False\n",
      "False\n"
     ]
    }
   ],
   "source": [
    "# if - else\n",
    "degisken = 3 > 5\n",
    "\n",
    "degisken2 = 12 <= 5\n",
    "\n",
    "print(degisken2 == 5 ) # denklik sorgusu\n",
    "\n",
    "print(degisken)\n",
    "print(degisken2)"
   ]
  },
  {
   "cell_type": "code",
   "execution_count": 7,
   "metadata": {},
   "outputs": [
    {
     "name": "stdout",
     "output_type": "stream",
     "text": [
      "True\n"
     ]
    }
   ],
   "source": [
    "a = 15\n",
    "\n",
    "print(a == 15)"
   ]
  },
  {
   "cell_type": "code",
   "execution_count": 8,
   "metadata": {},
   "outputs": [
    {
     "name": "stdout",
     "output_type": "stream",
     "text": [
      "False\n"
     ]
    }
   ],
   "source": [
    "a = 5\n",
    "\n",
    "print(a ==15)"
   ]
  },
  {
   "cell_type": "code",
   "execution_count": 9,
   "metadata": {},
   "outputs": [
    {
     "name": "stdout",
     "output_type": "stream",
     "text": [
      "False\n",
      "True\n",
      "False\n",
      "False\n"
     ]
    }
   ],
   "source": [
    "a = 15\n",
    "\n",
    "print(a == 5)\n",
    "\n",
    "print(12 == 12)\n",
    "\n",
    "print(True == False)\n",
    "\n",
    "print(\"ahmet\" == \"mehmet\")\n",
    "\n"
   ]
  },
  {
   "cell_type": "code",
   "execution_count": 10,
   "metadata": {},
   "outputs": [
    {
     "name": "stdout",
     "output_type": "stream",
     "text": [
      "1\n"
     ]
    }
   ],
   "source": [
    "#\n",
    "# if (Boolean):\n",
    "#   dogruysa Yapilmasi gerekenler\n",
    "# else:\n",
    "#    Yanlissa yapilmasi gerekenler\n",
    "\n",
    "\n",
    "\n",
    "a = 11\n",
    "\n",
    "AninModu = 11 % 2\n",
    "\n",
    "print(AninModu)"
   ]
  },
  {
   "cell_type": "code",
   "execution_count": 11,
   "metadata": {},
   "outputs": [
    {
     "name": "stdout",
     "output_type": "stream",
     "text": [
      "sayi15\n",
      "Sayi tektir.\n"
     ]
    }
   ],
   "source": [
    "#\n",
    "# if (Boolean):\n",
    "#   dogruysa Yapilmasi gerekenler\n",
    "# else:\n",
    "#    Yanlissa yapilmasi gerekenler\n",
    "\n",
    "\n",
    "sayi = int(input(\"sayi\"))\n",
    "\n",
    "if sayi % 2 == 0:\n",
    "    print(\"Sayi cifttir.\")\n",
    "else:\n",
    "    print(\"Sayi tektir.\")\n",
    "    \n",
    "        "
   ]
  },
  {
   "cell_type": "code",
   "execution_count": 12,
   "metadata": {},
   "outputs": [
    {
     "name": "stdout",
     "output_type": "stream",
     "text": [
      "sayi20\n",
      "Sayi cifttir.\n"
     ]
    }
   ],
   "source": [
    "#\n",
    "# if (Boolean):\n",
    "#   dogruysa Yapilmasi gerekenler\n",
    "# else:\n",
    "#    Yanlissa yapilmasi gerekenler\n",
    "\n",
    "\n",
    "sayi = int(input(\"sayi\"))\n",
    "\n",
    "if sayi % 2 == 0:\n",
    "    print(\"Sayi cifttir.\")\n",
    "else:\n",
    "    print(\"Sayi tektir.\")\n",
    "    \n",
    "        "
   ]
  },
  {
   "cell_type": "code",
   "execution_count": 13,
   "metadata": {},
   "outputs": [],
   "source": [
    "# Bir sayi alsin.\n",
    "# Sayinin negatif mi\n",
    "# yoksa pozitif mi \n",
    "# olduguna gore bizi bilgilendirsin\n",
    "#ornek1"
   ]
  },
  {
   "cell_type": "code",
   "execution_count": 14,
   "metadata": {},
   "outputs": [
    {
     "name": "stdout",
     "output_type": "stream",
     "text": [
      "sayi22\n",
      "Pozitif\n"
     ]
    }
   ],
   "source": [
    "sayi = int(input(\"sayi\"))\n",
    "\n",
    "if sayi>0:\n",
    "    print(\"Pozitif\")\n",
    "elif sayi == 0:\n",
    "    print(\"Sayi 0'a denktir\")\n",
    "else:\n",
    "    print(\"Negatif\") "
   ]
  },
  {
   "cell_type": "code",
   "execution_count": 15,
   "metadata": {},
   "outputs": [],
   "source": [
    "# sayi al\n",
    "# sayiyi kontrol et\n",
    "# 1. durum 50' den kucukse \"Kaldi\"\n",
    "# 2. durum 50 - 60 arasi \"C\"\n",
    "# 3. durum 60 - 80 arasi \"B\"\n",
    "# 4. durum 80 - 100 arasi \"A\"\n"
   ]
  },
  {
   "cell_type": "code",
   "execution_count": 16,
   "metadata": {},
   "outputs": [
    {
     "name": "stdout",
     "output_type": "stream",
     "text": [
      "Sayi42\n",
      "Kaldi\n"
     ]
    }
   ],
   "source": [
    "sayi = int(input(\"Sayi\"))\n",
    "\n",
    "if sayi >= 80 and sayi <= 100:\n",
    "    print(\"A\")\n",
    "elif sayi >= 60 and sayi < 80:\n",
    "    print(\"B\")\n",
    "elif sayi >= 50 and sayi < 60:\n",
    "    print(\"C\")\n",
    "else:\n",
    "    print(\"Kaldi\")"
   ]
  },
  {
   "cell_type": "code",
   "execution_count": null,
   "metadata": {},
   "outputs": [],
   "source": []
  }
 ],
 "metadata": {
  "kernelspec": {
   "display_name": "Python 3",
   "language": "python",
   "name": "python3"
  },
  "language_info": {
   "codemirror_mode": {
    "name": "ipython",
    "version": 3
   },
   "file_extension": ".py",
   "mimetype": "text/x-python",
   "name": "python",
   "nbconvert_exporter": "python",
   "pygments_lexer": "ipython3",
   "version": "3.6.5"
  }
 },
 "nbformat": 4,
 "nbformat_minor": 2
}
